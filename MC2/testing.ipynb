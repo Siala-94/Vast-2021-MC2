{
 "cells": [
  {
   "cell_type": "code",
   "execution_count": 4,
   "metadata": {},
   "outputs": [
    {
     "name": "stdout",
     "output_type": "stream",
     "text": [
      "    timestamp             location  price loyaltynum\n",
      "0  01/06/2014  Brew've Been Served   4.17      L2247\n",
      "1  01/06/2014  Brew've Been Served   9.60      L9406\n",
      "2  01/06/2014     Hallowed Grounds  16.53      L8328\n",
      "3  01/06/2014         Coffee Shack  11.51      L6417\n",
      "4  01/06/2014     Hallowed Grounds  12.93      L1107\n",
      "          timestamp             location  price  last4ccnum\n",
      "0  01/06/2014 07:28  Brew've Been Served  11.34        4795\n",
      "1  01/06/2014 07:34     Hallowed Grounds  52.22        7108\n",
      "2  01/06/2014 07:35  Brew've Been Served   8.33        6816\n",
      "3  01/06/2014 07:36     Hallowed Grounds  16.72        9617\n",
      "4  01/06/2014 07:37  Brew've Been Served   4.24        7384\n"
     ]
    }
   ],
   "source": [
    "import pandas as pd\n",
    "\n",
    "\n",
    "df_loyaty = pd.read_csv(\"loyalty_data.csv\",encoding=\"latin-1\")\n",
    "df_cc = pd.read_csv(\"cc_data.csv\",encoding=\"latin-1\")\n",
    "\n",
    "print(df_loyaty.head())\n",
    "print(df_cc.head())"
   ]
  },
  {
   "cell_type": "code",
   "execution_count": 2,
   "metadata": {},
   "outputs": [
    {
     "name": "stdout",
     "output_type": "stream",
     "text": [
      "['2014-01-06', '2014-01-07', '2014-01-08', '2014-01-09', '2014-01-10', '2014-01-11', '2014-01-12', '2014-01-13', '2014-01-14', '2014-01-15', '2014-01-16', '2014-01-17', '2014-01-18', '2014-01-19']\n"
     ]
    }
   ],
   "source": [
    "import plotly.graph_objects as go\n",
    "import plotly.express as px\n",
    "import plotly.subplots as sp\n",
    "import pandas as pd\n",
    "\n",
    "df_cc = pd.read_csv(\"cc_data.csv\",parse_dates=['timestamp'],encoding=\"latin-1\")\n",
    "\n",
    "df_cc['day'] = df_cc['timestamp'].dt.strftime('%Y-%m-%d')\n",
    "df_cc['hour'] = df_cc['timestamp'].dt.hour\n",
    "\n",
    "grouped_data = df_cc.groupby(['location', 'day', 'hour']).size().reset_index(name='visitor_count')\n",
    "\n",
    "\n",
    "unique_days = sorted(grouped_data['day'].unique())\n",
    "print(unique_days)\n",
    "\n"
   ]
  },
  {
   "cell_type": "code",
   "execution_count": null,
   "metadata": {},
   "outputs": [],
   "source": []
  }
 ],
 "metadata": {
  "kernelspec": {
   "display_name": "Python 3",
   "language": "python",
   "name": "python3"
  },
  "language_info": {
   "codemirror_mode": {
    "name": "ipython",
    "version": 3
   },
   "file_extension": ".py",
   "mimetype": "text/x-python",
   "name": "python",
   "nbconvert_exporter": "python",
   "pygments_lexer": "ipython3",
   "version": "3.10.6 (v3.10.6:9c7b4bd164, Aug  1 2022, 17:13:48) [Clang 13.0.0 (clang-1300.0.29.30)]"
  },
  "orig_nbformat": 4,
  "vscode": {
   "interpreter": {
    "hash": "aee8b7b246df8f9039afb4144a1f6fd8d2ca17a180786b69acc140d282b71a49"
   }
  }
 },
 "nbformat": 4,
 "nbformat_minor": 2
}
