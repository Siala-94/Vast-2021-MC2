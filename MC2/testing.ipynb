{
 "cells": [
  {
   "cell_type": "code",
   "execution_count": 20,
   "metadata": {},
   "outputs": [],
   "source": [
    "import fiona\n",
    "\n",
    "with fiona.open('Geospatial/abila.shp', 'r') as source:\n",
    "\n",
    "    # Copy the source schema and open a sink for writing.\n",
    "    sink_schema = source.schema.copy()\n",
    "    with fiona.open('abila_clean.shp', 'w',\n",
    "                    crs=source.crs,\n",
    "                    driver=source.driver,\n",
    "                    schema=sink_schema,\n",
    "                    ) as sink:\n",
    "\n",
    "        # Iterate over features in source\n",
    "        for f in source:\n",
    "            try:\n",
    "                # Check if the geometry has more than one point\n",
    "                if len(f['geometry']['coordinates']) > 1:\n",
    "                    sink.write(f)\n",
    "            except Exception as e:\n",
    "                # If an error occurs, print it and continue with the next feature\n",
    "                print(\"Error processing feature %s: %s\" % (f['id'], e))\n"
   ]
  },
  {
   "cell_type": "code",
   "execution_count": 6,
   "metadata": {},
   "outputs": [
    {
     "name": "stderr",
     "output_type": "stream",
     "text": [
      "/var/folders/7_/cwxkqgrs0192k_wlj6m516tc0000gn/T/ipykernel_28983/2919736272.py:7: DtypeWarning:\n",
      "\n",
      "Columns (1) have mixed types. Specify dtype option on import or set low_memory=False.\n",
      "\n"
     ]
    },
    {
     "ename": "AttributeError",
     "evalue": "module 'plotly.graph_objects' has no attribute 'line_mapbox'",
     "output_type": "error",
     "traceback": [
      "\u001b[0;31m---------------------------------------------------------------------------\u001b[0m",
      "\u001b[0;31mAttributeError\u001b[0m                            Traceback (most recent call last)",
      "Cell \u001b[0;32mIn[6], line 10\u001b[0m\n\u001b[1;32m      7\u001b[0m gps_data \u001b[39m=\u001b[39m pd\u001b[39m.\u001b[39mread_csv(\u001b[39m'\u001b[39m\u001b[39mgps.csv\u001b[39m\u001b[39m'\u001b[39m)\n\u001b[1;32m      9\u001b[0m \u001b[39m# Create scatter plot for the shapefile (converting the geometry to longitude and latitude)\u001b[39;00m\n\u001b[0;32m---> 10\u001b[0m shapefile_scatter \u001b[39m=\u001b[39m go\u001b[39m.\u001b[39;49mline_mapbox(\n\u001b[1;32m     11\u001b[0m     lon\u001b[39m=\u001b[39mabila_map\u001b[39m.\u001b[39mgeometry\u001b[39m.\u001b[39mcentroid\u001b[39m.\u001b[39mx,\n\u001b[1;32m     12\u001b[0m     lat\u001b[39m=\u001b[39mabila_map\u001b[39m.\u001b[39mgeometry\u001b[39m.\u001b[39mcentroid\u001b[39m.\u001b[39my,\n\u001b[1;32m     13\u001b[0m     mode\u001b[39m=\u001b[39m\u001b[39m'\u001b[39m\u001b[39mmarkers\u001b[39m\u001b[39m'\u001b[39m,\n\u001b[1;32m     14\u001b[0m     marker\u001b[39m=\u001b[39m\u001b[39mdict\u001b[39m(size\u001b[39m=\u001b[39m\u001b[39m5\u001b[39m, color\u001b[39m=\u001b[39m\u001b[39m'\u001b[39m\u001b[39mblue\u001b[39m\u001b[39m'\u001b[39m),  \u001b[39m# Adjust size and color as needed\u001b[39;00m\n\u001b[1;32m     15\u001b[0m     name\u001b[39m=\u001b[39m\u001b[39m'\u001b[39m\u001b[39mShapefile\u001b[39m\u001b[39m'\u001b[39m\n\u001b[1;32m     16\u001b[0m )\n\u001b[1;32m     18\u001b[0m \u001b[39m# Create scatter plot for the GPS data\u001b[39;00m\n\u001b[1;32m     19\u001b[0m gps_scatter \u001b[39m=\u001b[39m go\u001b[39m.\u001b[39mScattermapbox(\n\u001b[1;32m     20\u001b[0m     lon\u001b[39m=\u001b[39mgps_data[\u001b[39m'\u001b[39m\u001b[39mlong\u001b[39m\u001b[39m'\u001b[39m],\n\u001b[1;32m     21\u001b[0m     lat\u001b[39m=\u001b[39mgps_data[\u001b[39m'\u001b[39m\u001b[39mlat\u001b[39m\u001b[39m'\u001b[39m],\n\u001b[0;32m   (...)\u001b[0m\n\u001b[1;32m     24\u001b[0m     name\u001b[39m=\u001b[39m\u001b[39m'\u001b[39m\u001b[39mGPS\u001b[39m\u001b[39m'\u001b[39m\n\u001b[1;32m     25\u001b[0m )\n",
      "File \u001b[0;32m/Library/Frameworks/Python.framework/Versions/3.10/lib/python3.10/site-packages/plotly/graph_objects/__init__.py:299\u001b[0m, in \u001b[0;36m__getattr__\u001b[0;34m(import_name)\u001b[0m\n\u001b[1;32m    295\u001b[0m         \u001b[39mfrom\u001b[39;00m \u001b[39m.\u001b[39;00m\u001b[39m.\u001b[39;00m\u001b[39mmissing_ipywidgets\u001b[39;00m \u001b[39mimport\u001b[39;00m FigureWidget\n\u001b[1;32m    297\u001b[0m         \u001b[39mreturn\u001b[39;00m FigureWidget\n\u001b[0;32m--> 299\u001b[0m \u001b[39mreturn\u001b[39;00m orig_getattr(import_name)\n",
      "File \u001b[0;32m/Library/Frameworks/Python.framework/Versions/3.10/lib/python3.10/site-packages/_plotly_utils/importers.py:39\u001b[0m, in \u001b[0;36mrelative_import.<locals>.__getattr__\u001b[0;34m(import_name)\u001b[0m\n\u001b[1;32m     36\u001b[0m     class_module \u001b[39m=\u001b[39m importlib\u001b[39m.\u001b[39mimport_module(rel_module, parent_name)\n\u001b[1;32m     37\u001b[0m     \u001b[39mreturn\u001b[39;00m \u001b[39mgetattr\u001b[39m(class_module, class_name)\n\u001b[0;32m---> 39\u001b[0m \u001b[39mraise\u001b[39;00m \u001b[39mAttributeError\u001b[39;00m(\n\u001b[1;32m     40\u001b[0m     \u001b[39m\"\u001b[39m\u001b[39mmodule \u001b[39m\u001b[39m{__name__!r}\u001b[39;00m\u001b[39m has no attribute \u001b[39m\u001b[39m{name!r}\u001b[39;00m\u001b[39m\"\u001b[39m\u001b[39m.\u001b[39mformat(\n\u001b[1;32m     41\u001b[0m         name\u001b[39m=\u001b[39mimport_name, \u001b[39m__name__\u001b[39m\u001b[39m=\u001b[39mparent_name\n\u001b[1;32m     42\u001b[0m     )\n\u001b[1;32m     43\u001b[0m )\n",
      "\u001b[0;31mAttributeError\u001b[0m: module 'plotly.graph_objects' has no attribute 'line_mapbox'"
     ]
    }
   ],
   "source": [
    "import geopandas as gpd\n",
    "import pandas as pd\n",
    "import plotly.graph_objects as go\n",
    "\n",
    "# Load data\n",
    "abila_map = gpd.read_file('abila_clean.shp')\n",
    "gps_data = pd.read_csv('gps.csv')\n",
    "\n",
    "# Create scatter plot for the shapefile (converting the geometry to longitude and latitude)\n",
    "shapefile_scatter = go.Scattermapbox(\n",
    "    lon=abila_map.geometry.centroid.x,\n",
    "    lat=abila_map.geometry.centroid.y,\n",
    "    mode='markers',\n",
    "    marker=dict(size=5, color='blue'),  # Adjust size and color as needed\n",
    "    name='Shapefile'\n",
    ")\n",
    "\n",
    "# Create scatter plot for the GPS data\n",
    "gps_scatter = go.Scattermapbox(\n",
    "    lon=gps_data['long'],\n",
    "    lat=gps_data['lat'],\n",
    "    mode='markers',\n",
    "    marker=dict(size=5, color='red'),  # Adjust size and color as needed\n",
    "    name='GPS'\n",
    ")\n",
    "\n",
    "# Create the layout\n",
    "layout = go.Layout(\n",
    "    autosize=True,\n",
    "    hovermode='closest',\n",
    "    mapbox=dict(\n",
    "        accesstoken='pk.eyJ1Ijoic2lhbGE5NCIsImEiOiJjbGkwZHFraHYwMnlqM2ZxdDMwcmZ0eHpqIn0.hSlCyOSAegQISYuMg98rOA',  # Replace with your Mapbox access token\n",
    "        bearing=0,\n",
    "        center=dict(\n",
    "            lat=abila_map.geometry.centroid.y.mean(),\n",
    "            lon=abila_map.geometry.centroid.x.mean()\n",
    "        ),\n",
    "        pitch=0,\n",
    "        zoom=5,  # Adjust zoom level as needed\n",
    "    ),\n",
    ")\n",
    "\n",
    "# Combine the plots\n",
    "data = [shapefile_scatter, gps_scatter]\n",
    "\n",
    "fig = go.Figure(data=data, layout=layout)\n",
    "fig.show()\n"
   ]
  },
  {
   "cell_type": "code",
   "execution_count": 7,
   "metadata": {},
   "outputs": [
    {
     "name": "stderr",
     "output_type": "stream",
     "text": [
      "/var/folders/7_/cwxkqgrs0192k_wlj6m516tc0000gn/T/ipykernel_28983/8208043.py:7: DtypeWarning:\n",
      "\n",
      "Columns (1) have mixed types. Specify dtype option on import or set low_memory=False.\n",
      "\n"
     ]
    },
    {
     "ename": "AttributeError",
     "evalue": "'tuple' object has no attribute 'x'",
     "output_type": "error",
     "traceback": [
      "\u001b[0;31m---------------------------------------------------------------------------\u001b[0m",
      "\u001b[0;31mAttributeError\u001b[0m                            Traceback (most recent call last)",
      "Cell \u001b[0;32mIn[7], line 11\u001b[0m\n\u001b[1;32m      7\u001b[0m gps_data \u001b[39m=\u001b[39m pd\u001b[39m.\u001b[39mread_csv(\u001b[39m'\u001b[39m\u001b[39mgps.csv\u001b[39m\u001b[39m'\u001b[39m)\n\u001b[1;32m      9\u001b[0m \u001b[39m# Create scatter plot for the shapefile (converting the geometry to longitude and latitude)\u001b[39;00m\n\u001b[1;32m     10\u001b[0m shapefile_lines \u001b[39m=\u001b[39m go\u001b[39m.\u001b[39mScattermapbox(\n\u001b[0;32m---> 11\u001b[0m     lon\u001b[39m=\u001b[39mabila_map\u001b[39m.\u001b[39;49mgeometry\u001b[39m.\u001b[39;49mapply(\u001b[39mlambda\u001b[39;49;00m geom: [point\u001b[39m.\u001b[39;49mx \u001b[39mfor\u001b[39;49;00m point \u001b[39min\u001b[39;49;00m geom\u001b[39m.\u001b[39;49mcoords]),\n\u001b[1;32m     12\u001b[0m     lat\u001b[39m=\u001b[39mabila_map\u001b[39m.\u001b[39mgeometry\u001b[39m.\u001b[39mapply(\u001b[39mlambda\u001b[39;00m geom: [point\u001b[39m.\u001b[39my \u001b[39mfor\u001b[39;00m point \u001b[39min\u001b[39;00m geom\u001b[39m.\u001b[39mcoords]),\n\u001b[1;32m     13\u001b[0m     mode\u001b[39m=\u001b[39m\u001b[39m'\u001b[39m\u001b[39mlines\u001b[39m\u001b[39m'\u001b[39m,\n\u001b[1;32m     14\u001b[0m     line\u001b[39m=\u001b[39m\u001b[39mdict\u001b[39m(color\u001b[39m=\u001b[39m\u001b[39m'\u001b[39m\u001b[39mblue\u001b[39m\u001b[39m'\u001b[39m, width\u001b[39m=\u001b[39m\u001b[39m2\u001b[39m),  \u001b[39m# Adjust color and width as needed\u001b[39;00m\n\u001b[1;32m     15\u001b[0m     name\u001b[39m=\u001b[39m\u001b[39m'\u001b[39m\u001b[39mShapefile\u001b[39m\u001b[39m'\u001b[39m\n\u001b[1;32m     16\u001b[0m )\n\u001b[1;32m     18\u001b[0m \u001b[39m# Create scatter plot for the GPS data\u001b[39;00m\n\u001b[1;32m     19\u001b[0m gps_scatter \u001b[39m=\u001b[39m go\u001b[39m.\u001b[39mScattermapbox(\n\u001b[1;32m     20\u001b[0m     lon\u001b[39m=\u001b[39mgps_data[\u001b[39m'\u001b[39m\u001b[39mlong\u001b[39m\u001b[39m'\u001b[39m],\n\u001b[1;32m     21\u001b[0m     lat\u001b[39m=\u001b[39mgps_data[\u001b[39m'\u001b[39m\u001b[39mlat\u001b[39m\u001b[39m'\u001b[39m],\n\u001b[0;32m   (...)\u001b[0m\n\u001b[1;32m     24\u001b[0m     name\u001b[39m=\u001b[39m\u001b[39m'\u001b[39m\u001b[39mGPS\u001b[39m\u001b[39m'\u001b[39m\n\u001b[1;32m     25\u001b[0m )\n",
      "File \u001b[0;32m/Library/Frameworks/Python.framework/Versions/3.10/lib/python3.10/site-packages/geopandas/geoseries.py:645\u001b[0m, in \u001b[0;36mGeoSeries.apply\u001b[0;34m(self, func, convert_dtype, args, **kwargs)\u001b[0m\n\u001b[1;32m    643\u001b[0m \u001b[39m@doc\u001b[39m(pd\u001b[39m.\u001b[39mSeries)\n\u001b[1;32m    644\u001b[0m \u001b[39mdef\u001b[39;00m \u001b[39mapply\u001b[39m(\u001b[39mself\u001b[39m, func, convert_dtype\u001b[39m=\u001b[39m\u001b[39mTrue\u001b[39;00m, args\u001b[39m=\u001b[39m(), \u001b[39m*\u001b[39m\u001b[39m*\u001b[39mkwargs):\n\u001b[0;32m--> 645\u001b[0m     result \u001b[39m=\u001b[39m \u001b[39msuper\u001b[39;49m()\u001b[39m.\u001b[39;49mapply(func, convert_dtype\u001b[39m=\u001b[39;49mconvert_dtype, args\u001b[39m=\u001b[39;49margs, \u001b[39m*\u001b[39;49m\u001b[39m*\u001b[39;49mkwargs)\n\u001b[1;32m    646\u001b[0m     \u001b[39mif\u001b[39;00m \u001b[39misinstance\u001b[39m(result, GeoSeries):\n\u001b[1;32m    647\u001b[0m         \u001b[39mif\u001b[39;00m \u001b[39mself\u001b[39m\u001b[39m.\u001b[39mcrs \u001b[39mis\u001b[39;00m \u001b[39mnot\u001b[39;00m \u001b[39mNone\u001b[39;00m:\n",
      "File \u001b[0;32m/Library/Frameworks/Python.framework/Versions/3.10/lib/python3.10/site-packages/pandas/core/series.py:4631\u001b[0m, in \u001b[0;36mSeries.apply\u001b[0;34m(self, func, convert_dtype, args, **kwargs)\u001b[0m\n\u001b[1;32m   4521\u001b[0m \u001b[39mdef\u001b[39;00m \u001b[39mapply\u001b[39m(\n\u001b[1;32m   4522\u001b[0m     \u001b[39mself\u001b[39m,\n\u001b[1;32m   4523\u001b[0m     func: AggFuncType,\n\u001b[0;32m   (...)\u001b[0m\n\u001b[1;32m   4526\u001b[0m     \u001b[39m*\u001b[39m\u001b[39m*\u001b[39mkwargs,\n\u001b[1;32m   4527\u001b[0m ) \u001b[39m-\u001b[39m\u001b[39m>\u001b[39m DataFrame \u001b[39m|\u001b[39m Series:\n\u001b[1;32m   4528\u001b[0m \u001b[39m    \u001b[39m\u001b[39m\"\"\"\u001b[39;00m\n\u001b[1;32m   4529\u001b[0m \u001b[39m    Invoke function on values of Series.\u001b[39;00m\n\u001b[1;32m   4530\u001b[0m \n\u001b[0;32m   (...)\u001b[0m\n\u001b[1;32m   4629\u001b[0m \u001b[39m    dtype: float64\u001b[39;00m\n\u001b[1;32m   4630\u001b[0m \u001b[39m    \"\"\"\u001b[39;00m\n\u001b[0;32m-> 4631\u001b[0m     \u001b[39mreturn\u001b[39;00m SeriesApply(\u001b[39mself\u001b[39;49m, func, convert_dtype, args, kwargs)\u001b[39m.\u001b[39;49mapply()\n",
      "File \u001b[0;32m/Library/Frameworks/Python.framework/Versions/3.10/lib/python3.10/site-packages/pandas/core/apply.py:1025\u001b[0m, in \u001b[0;36mSeriesApply.apply\u001b[0;34m(self)\u001b[0m\n\u001b[1;32m   1022\u001b[0m     \u001b[39mreturn\u001b[39;00m \u001b[39mself\u001b[39m\u001b[39m.\u001b[39mapply_str()\n\u001b[1;32m   1024\u001b[0m \u001b[39m# self.f is Callable\u001b[39;00m\n\u001b[0;32m-> 1025\u001b[0m \u001b[39mreturn\u001b[39;00m \u001b[39mself\u001b[39;49m\u001b[39m.\u001b[39;49mapply_standard()\n",
      "File \u001b[0;32m/Library/Frameworks/Python.framework/Versions/3.10/lib/python3.10/site-packages/pandas/core/apply.py:1076\u001b[0m, in \u001b[0;36mSeriesApply.apply_standard\u001b[0;34m(self)\u001b[0m\n\u001b[1;32m   1074\u001b[0m     \u001b[39melse\u001b[39;00m:\n\u001b[1;32m   1075\u001b[0m         values \u001b[39m=\u001b[39m obj\u001b[39m.\u001b[39mastype(\u001b[39mobject\u001b[39m)\u001b[39m.\u001b[39m_values\n\u001b[0;32m-> 1076\u001b[0m         mapped \u001b[39m=\u001b[39m lib\u001b[39m.\u001b[39;49mmap_infer(\n\u001b[1;32m   1077\u001b[0m             values,\n\u001b[1;32m   1078\u001b[0m             f,\n\u001b[1;32m   1079\u001b[0m             convert\u001b[39m=\u001b[39;49m\u001b[39mself\u001b[39;49m\u001b[39m.\u001b[39;49mconvert_dtype,\n\u001b[1;32m   1080\u001b[0m         )\n\u001b[1;32m   1082\u001b[0m \u001b[39mif\u001b[39;00m \u001b[39mlen\u001b[39m(mapped) \u001b[39mand\u001b[39;00m \u001b[39misinstance\u001b[39m(mapped[\u001b[39m0\u001b[39m], ABCSeries):\n\u001b[1;32m   1083\u001b[0m     \u001b[39m# GH#43986 Need to do list(mapped) in order to get treated as nested\u001b[39;00m\n\u001b[1;32m   1084\u001b[0m     \u001b[39m#  See also GH#25959 regarding EA support\u001b[39;00m\n\u001b[1;32m   1085\u001b[0m     \u001b[39mreturn\u001b[39;00m obj\u001b[39m.\u001b[39m_constructor_expanddim(\u001b[39mlist\u001b[39m(mapped), index\u001b[39m=\u001b[39mobj\u001b[39m.\u001b[39mindex)\n",
      "File \u001b[0;32m/Library/Frameworks/Python.framework/Versions/3.10/lib/python3.10/site-packages/pandas/_libs/lib.pyx:2834\u001b[0m, in \u001b[0;36mpandas._libs.lib.map_infer\u001b[0;34m()\u001b[0m\n",
      "Cell \u001b[0;32mIn[7], line 11\u001b[0m, in \u001b[0;36m<lambda>\u001b[0;34m(geom)\u001b[0m\n\u001b[1;32m      7\u001b[0m gps_data \u001b[39m=\u001b[39m pd\u001b[39m.\u001b[39mread_csv(\u001b[39m'\u001b[39m\u001b[39mgps.csv\u001b[39m\u001b[39m'\u001b[39m)\n\u001b[1;32m      9\u001b[0m \u001b[39m# Create scatter plot for the shapefile (converting the geometry to longitude and latitude)\u001b[39;00m\n\u001b[1;32m     10\u001b[0m shapefile_lines \u001b[39m=\u001b[39m go\u001b[39m.\u001b[39mScattermapbox(\n\u001b[0;32m---> 11\u001b[0m     lon\u001b[39m=\u001b[39mabila_map\u001b[39m.\u001b[39mgeometry\u001b[39m.\u001b[39mapply(\u001b[39mlambda\u001b[39;00m geom: [point\u001b[39m.\u001b[39mx \u001b[39mfor\u001b[39;00m point \u001b[39min\u001b[39;00m geom\u001b[39m.\u001b[39mcoords]),\n\u001b[1;32m     12\u001b[0m     lat\u001b[39m=\u001b[39mabila_map\u001b[39m.\u001b[39mgeometry\u001b[39m.\u001b[39mapply(\u001b[39mlambda\u001b[39;00m geom: [point\u001b[39m.\u001b[39my \u001b[39mfor\u001b[39;00m point \u001b[39min\u001b[39;00m geom\u001b[39m.\u001b[39mcoords]),\n\u001b[1;32m     13\u001b[0m     mode\u001b[39m=\u001b[39m\u001b[39m'\u001b[39m\u001b[39mlines\u001b[39m\u001b[39m'\u001b[39m,\n\u001b[1;32m     14\u001b[0m     line\u001b[39m=\u001b[39m\u001b[39mdict\u001b[39m(color\u001b[39m=\u001b[39m\u001b[39m'\u001b[39m\u001b[39mblue\u001b[39m\u001b[39m'\u001b[39m, width\u001b[39m=\u001b[39m\u001b[39m2\u001b[39m),  \u001b[39m# Adjust color and width as needed\u001b[39;00m\n\u001b[1;32m     15\u001b[0m     name\u001b[39m=\u001b[39m\u001b[39m'\u001b[39m\u001b[39mShapefile\u001b[39m\u001b[39m'\u001b[39m\n\u001b[1;32m     16\u001b[0m )\n\u001b[1;32m     18\u001b[0m \u001b[39m# Create scatter plot for the GPS data\u001b[39;00m\n\u001b[1;32m     19\u001b[0m gps_scatter \u001b[39m=\u001b[39m go\u001b[39m.\u001b[39mScattermapbox(\n\u001b[1;32m     20\u001b[0m     lon\u001b[39m=\u001b[39mgps_data[\u001b[39m'\u001b[39m\u001b[39mlong\u001b[39m\u001b[39m'\u001b[39m],\n\u001b[1;32m     21\u001b[0m     lat\u001b[39m=\u001b[39mgps_data[\u001b[39m'\u001b[39m\u001b[39mlat\u001b[39m\u001b[39m'\u001b[39m],\n\u001b[0;32m   (...)\u001b[0m\n\u001b[1;32m     24\u001b[0m     name\u001b[39m=\u001b[39m\u001b[39m'\u001b[39m\u001b[39mGPS\u001b[39m\u001b[39m'\u001b[39m\n\u001b[1;32m     25\u001b[0m )\n",
      "Cell \u001b[0;32mIn[7], line 11\u001b[0m, in \u001b[0;36m<listcomp>\u001b[0;34m(.0)\u001b[0m\n\u001b[1;32m      7\u001b[0m gps_data \u001b[39m=\u001b[39m pd\u001b[39m.\u001b[39mread_csv(\u001b[39m'\u001b[39m\u001b[39mgps.csv\u001b[39m\u001b[39m'\u001b[39m)\n\u001b[1;32m      9\u001b[0m \u001b[39m# Create scatter plot for the shapefile (converting the geometry to longitude and latitude)\u001b[39;00m\n\u001b[1;32m     10\u001b[0m shapefile_lines \u001b[39m=\u001b[39m go\u001b[39m.\u001b[39mScattermapbox(\n\u001b[0;32m---> 11\u001b[0m     lon\u001b[39m=\u001b[39mabila_map\u001b[39m.\u001b[39mgeometry\u001b[39m.\u001b[39mapply(\u001b[39mlambda\u001b[39;00m geom: [point\u001b[39m.\u001b[39;49mx \u001b[39mfor\u001b[39;00m point \u001b[39min\u001b[39;00m geom\u001b[39m.\u001b[39mcoords]),\n\u001b[1;32m     12\u001b[0m     lat\u001b[39m=\u001b[39mabila_map\u001b[39m.\u001b[39mgeometry\u001b[39m.\u001b[39mapply(\u001b[39mlambda\u001b[39;00m geom: [point\u001b[39m.\u001b[39my \u001b[39mfor\u001b[39;00m point \u001b[39min\u001b[39;00m geom\u001b[39m.\u001b[39mcoords]),\n\u001b[1;32m     13\u001b[0m     mode\u001b[39m=\u001b[39m\u001b[39m'\u001b[39m\u001b[39mlines\u001b[39m\u001b[39m'\u001b[39m,\n\u001b[1;32m     14\u001b[0m     line\u001b[39m=\u001b[39m\u001b[39mdict\u001b[39m(color\u001b[39m=\u001b[39m\u001b[39m'\u001b[39m\u001b[39mblue\u001b[39m\u001b[39m'\u001b[39m, width\u001b[39m=\u001b[39m\u001b[39m2\u001b[39m),  \u001b[39m# Adjust color and width as needed\u001b[39;00m\n\u001b[1;32m     15\u001b[0m     name\u001b[39m=\u001b[39m\u001b[39m'\u001b[39m\u001b[39mShapefile\u001b[39m\u001b[39m'\u001b[39m\n\u001b[1;32m     16\u001b[0m )\n\u001b[1;32m     18\u001b[0m \u001b[39m# Create scatter plot for the GPS data\u001b[39;00m\n\u001b[1;32m     19\u001b[0m gps_scatter \u001b[39m=\u001b[39m go\u001b[39m.\u001b[39mScattermapbox(\n\u001b[1;32m     20\u001b[0m     lon\u001b[39m=\u001b[39mgps_data[\u001b[39m'\u001b[39m\u001b[39mlong\u001b[39m\u001b[39m'\u001b[39m],\n\u001b[1;32m     21\u001b[0m     lat\u001b[39m=\u001b[39mgps_data[\u001b[39m'\u001b[39m\u001b[39mlat\u001b[39m\u001b[39m'\u001b[39m],\n\u001b[0;32m   (...)\u001b[0m\n\u001b[1;32m     24\u001b[0m     name\u001b[39m=\u001b[39m\u001b[39m'\u001b[39m\u001b[39mGPS\u001b[39m\u001b[39m'\u001b[39m\n\u001b[1;32m     25\u001b[0m )\n",
      "\u001b[0;31mAttributeError\u001b[0m: 'tuple' object has no attribute 'x'"
     ]
    }
   ],
   "source": [
    "import geopandas as gpd\n",
    "import pandas as pd\n",
    "import plotly.graph_objects as go\n",
    "\n",
    "# Load data\n",
    "abila_map = gpd.read_file('abila_clean.shp')\n",
    "gps_data = pd.read_csv('gps.csv')\n",
    "\n",
    "# Create scatter plot for the shapefile (converting the geometry to longitude and latitude)\n",
    "shapefile_lines = go.Scattermapbox(\n",
    "    lon=abila_map.geometry.apply(lambda geom: [point.x for point in geom.coords]),\n",
    "    lat=abila_map.geometry.apply(lambda geom: [point.y for point in geom.coords]),\n",
    "    mode='lines',\n",
    "    line=dict(color='blue', width=2),  # Adjust color and width as needed\n",
    "    name='Shapefile'\n",
    ")\n",
    "\n",
    "# Create scatter plot for the GPS data\n",
    "gps_scatter = go.Scattermapbox(\n",
    "    lon=gps_data['long'],\n",
    "    lat=gps_data['lat'],\n",
    "    mode='markers',\n",
    "    marker=dict(size=5, color='red'),  # Adjust size and color as needed\n",
    "    name='GPS'\n",
    ")\n",
    "\n",
    "# Create the layout\n",
    "layout = go.Layout(\n",
    "    autosize=True,\n",
    "    hovermode='closest',\n",
    "    mapbox=dict(\n",
    "        accesstoken='pk.eyJ1Ijoic2lhbGE5NCIsImEiOiJjbGkwZHFraHYwMnlqM2ZxdDMwcmZ0eHpqIn0.hSlCyOSAegQISYuMg98rOA',  # Replace with your Mapbox access token\n",
    "        bearing=0,\n",
    "        center=dict(\n",
    "            lat=abila_map.geometry.centroid.y.mean(),\n",
    "            lon=abila_map.geometry.centroid.x.mean()\n",
    "        ),\n",
    "        pitch=0,\n",
    "        zoom=5,  # Adjust zoom level as needed\n",
    "    ),\n",
    ")\n",
    "\n",
    "# Combine the plots\n",
    "data = [shapefile_lines, gps_scatter]\n",
    "\n",
    "fig = go.Figure(data=data, layout=layout)\n",
    "fig.show()\n"
   ]
  },
  {
   "cell_type": "code",
   "execution_count": null,
   "metadata": {},
   "outputs": [],
   "source": []
  }
 ],
 "metadata": {
  "kernelspec": {
   "display_name": "Python 3",
   "language": "python",
   "name": "python3"
  },
  "language_info": {
   "codemirror_mode": {
    "name": "ipython",
    "version": 3
   },
   "file_extension": ".py",
   "mimetype": "text/x-python",
   "name": "python",
   "nbconvert_exporter": "python",
   "pygments_lexer": "ipython3",
   "version": "3.10.6"
  },
  "orig_nbformat": 4,
  "vscode": {
   "interpreter": {
    "hash": "aee8b7b246df8f9039afb4144a1f6fd8d2ca17a180786b69acc140d282b71a49"
   }
  }
 },
 "nbformat": 4,
 "nbformat_minor": 2
}
